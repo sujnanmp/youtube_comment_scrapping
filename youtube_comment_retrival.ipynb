{
  "nbformat": 4,
  "nbformat_minor": 0,
  "metadata": {
    "colab": {
      "provenance": []
    },
    "kernelspec": {
      "name": "python3",
      "display_name": "Python 3"
    },
    "language_info": {
      "name": "python"
    }
  },
  "cells": [
    {
      "cell_type": "markdown",
      "source": [
        "youtube comment retrival using YOUTUBE DATA API"
      ],
      "metadata": {
        "id": "qrSamVk233fs"
      }
    },
    {
      "cell_type": "code",
      "execution_count": null,
      "metadata": {
        "id": "lXKT5dTalq82"
      },
      "outputs": [],
      "source": [
        "pip install google-api-python-client\n"
      ]
    },
    {
      "cell_type": "code",
      "source": [
        "\n",
        "# googleapiclient.discovery is used to interact with Google APIs.\n",
        "# re is the regular expression module used for pattern matching(method of finding the pattern in the large dataset or information(here it is used to find the pattern of the video id in the video url )).\n",
        "# time module is used for adding delays in the code.\n",
        "\n",
        "from googleapiclient.discovery import build\n",
        "import re\n",
        "import time\n",
        "\n",
        "#This function takes a YouTube video URL as input and returns the video ID extracted from it\n",
        "\n",
        "def video_id(url: str) -> str:\n",
        "    \"\"\"Extract the ``video_id`` from a YouTube url.\"\"\"\n",
        "    return re.search(r\"(?:v=|\\/)([0-9A-Za-z_-]{11}).*\", url, re.DOTALL).group(1)\n",
        "\n",
        "\"\"\"get_comments function:\n",
        "\n",
        "This function fetches comments from a YouTube video using YouTube Data API. Here's how it works:\n",
        "\n",
        "It takes two arguments: video_url (the URL of the YouTube video) and api_key (your API key to access the YouTube Data API).\n",
        "It extracts the video ID from the provided video URL using the video_id function.\n",
        "It builds a YouTube API service object using the build function from the googleapiclient.discovery module.\n",
        "It initializes an empty list all_comments to store all the comments retrieved from the video.\n",
        "It starts a while loop to fetch comments page by page because YouTube API paginates comments.\n",
        "Inside the loop:\n",
        "It makes a request to the YouTube Data API to fetch comments for the given video ID.\n",
        "It extends the all_comments list with the comments retrieved in the response.\n",
        "It updates the next_page_token with the token for the next page of comments, if available.\n",
        "If there are no more pages of comments (next_page_token is None), it breaks out of the loop.\n",
        "It adds a one-second delay to avoid hitting rate limits.\n",
        "If an exception occurs during the API request, it prints an error message and breaks out of the loop.\n",
        "Finally, it returns the list of all comments retrieved.\"\"\"\n",
        "\n",
        "\n",
        "\n",
        "def get_comments(video_url, api_key):\n",
        "    extracted_video_id = video_id(video_url)\n",
        "    youtube = build('youtube', 'v3', developerKey=api_key)\n",
        "    all_comments = []\n",
        "\n",
        "    next_page_token = None\n",
        "    while True:\n",
        "        try:\n",
        "            request = youtube.commentThreads().list(\n",
        "                part=\"snippet\",\n",
        "                videoId=extracted_video_id,\n",
        "                textFormat=\"plainText\",\n",
        "                pageToken=next_page_token\n",
        "            )\n",
        "            response = request.execute()\n",
        "            all_comments.extend(response['items'])\n",
        "            next_page_token = response.get('nextPageToken')\n",
        "            if not next_page_token:\n",
        "                break\n",
        "            # Add a delay to manage rate limits\n",
        "            time.sleep(1)\n",
        "        except Exception as e:\n",
        "            print(f\"An error occurred: {e}\")\n",
        "            break\n",
        "\n",
        "    return all_comments\n",
        "\n",
        "#It calls the get_comments function with a YouTube video URL and an API key, and stores the returned comments in the comments variable.\n",
        "\n",
        "# Example usage\n",
        "comments = get_comments('https://youtu.be/53IBdnidxtc?si=4hst2ysY5swtjh3z', 'you_data_api_key')\n",
        "\n",
        "#Printing the total number of comments retrieved:\n",
        "\n",
        "print(f\"Total comments retrieved: {len(comments)}\")\n",
        "\n",
        "# Display comments one below the other+\n",
        "#for comment in comments:\n",
        "   # print(comment['snippet']['topLevelComment']['snippet']['textDisplay'])\n"
      ],
      "metadata": {
        "id": "KvN8ppC_l3gO",
        "colab": {
          "base_uri": "https://localhost:8080/"
        },
        "outputId": "b9fa0f49-6e8e-4c56-e6b7-e82d39fad290"
      },
      "execution_count": null,
      "outputs": [
        {
          "output_type": "stream",
          "name": "stdout",
          "text": [
            "Total comments retrieved: 8387\n"
          ]
        }
      ]
    },
    {
      "cell_type": "markdown",
      "source": [],
      "metadata": {
        "id": "PeV1fsGE4U3u"
      }
    }
  ]
}
